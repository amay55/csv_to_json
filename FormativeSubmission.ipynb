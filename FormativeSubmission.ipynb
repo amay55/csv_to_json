{
 "cells": [
  {
   "cell_type": "code",
   "execution_count": null,
   "metadata": {},
   "outputs": [],
   "source": [
    "import csv\n"
   ]
  },
  {
   "cell_type": "code",
   "execution_count": null,
   "metadata": {},
   "outputs": [],
   "source": [
    "import json"
   ]
  },
  {
   "cell_type": "code",
   "execution_count": null,
   "metadata": {},
   "outputs": [],
   "source": [
    "def csv_to_json(csv_file_path, json_file_path, key_index):\n",
    "    data = {}\n",
    "    while True:\n",
    "        # Try to open file - if file is not found it will throw an error and re-try\n",
    "        try:\n",
    "            with open(csv_file_path, encoding='utf-8-sig') as csv_file:\n",
    "                csv_dict_reader = csv.DictReader(csv_file)\n",
    "                fields = list(next(csv_dict_reader))\n",
    "                # Setting primary key to Facility ID (Inventory), Facility ID (Inventory) and Serial ID (Violations)\n",
    "                # by passing in keyIndex as a parameter\n",
    "                key = fields[key_index]\n",
    "                print(key) # Print primary key to check\n",
    "                for row in csv_dict_reader:\n",
    "                    index = row[key]\n",
    "                    data[index] = row\n",
    "                    print(data) # Print data to check \n",
    "                    \n",
    "            with open(json_file_path, 'w') as json_file:\n",
    "                json_file.write(json.dumps(data, sort_keys=False, indent=4))\n",
    "                print('JSON file has been created')\n",
    "            break\n",
    "\n",
    "        except FileNotFoundError:\n",
    "            print('Error: CSV file not found. Please re-enter your file name: ')\n",
    "            csv_file_path = enter_csv_file_name()"
   ]
  },
  {
   "cell_type": "code",
   "execution_count": null,
   "metadata": {},
   "outputs": [],
   "source": [
    "def enter_csv_file_name():\n",
    "    try:\n",
    "        csv_file_name = input('Please enter your CSV file name (input) e.g. xyz.csv: ')\n",
    "        return csv_file_name\n",
    "    except ValueError:\n",
    "        print('Error: Name entered is not valid')"
   ]
  },
  {
   "cell_type": "code",
   "execution_count": null,
   "metadata": {},
   "outputs": [],
   "source": [
    "def enter_json_file_name():\n",
    "    # TODO - add try/except statement to throw and error\n",
    "    # if file name does not end in .json\n",
    "    try:\n",
    "        json_file_name = input('Please enter your desired JSON file name (output) e.g. xyz.json: ')\n",
    "        return json_file_name\n",
    "    except ValueError:\n",
    "        print('Error: Name entered is not valid')"
   ]
  },
  {
   "cell_type": "code",
   "execution_count": null,
   "metadata": {},
   "outputs": [],
   "source": [
    "print('Inventory:')\n",
    "csv_inventory = enter_csv_file_name()\n",
    "json_inventory = enter_json_file_name()\n",
    "csv_to_json(csv_inventory, json_inventory, 0)"
   ]
  },
  {
   "cell_type": "code",
   "execution_count": null,
   "metadata": {},
   "outputs": [],
   "source": [
    "print('Inspections:')\n",
    "csv_inspections = enter_csv_file_name()\n",
    "json_inspections = enter_json_file_name()\n",
    "csv_to_json(csv_inspections, json_inspections, 3)"
   ]
  },
  {
   "cell_type": "code",
   "execution_count": null,
   "metadata": {},
   "outputs": [],
   "source": [
    "print('Violations:')\n",
    "csv_violations = enter_csv_file_name()\n",
    "json_violations = enter_json_file_name()\n",
    "csv_to_json(csv_violations, json_violations, 0)"
   ]
  },
  {
   "cell_type": "code",
   "execution_count": null,
   "metadata": {},
   "outputs": [],
   "source": []
  }
 ],
 "metadata": {
  "kernelspec": {
   "display_name": "Python 3",
   "language": "python",
   "name": "python3"
  },
  "language_info": {
   "codemirror_mode": {
    "name": "ipython",
    "version": 3
   },
   "file_extension": ".py",
   "mimetype": "text/x-python",
   "name": "python",
   "nbconvert_exporter": "python",
   "pygments_lexer": "ipython3",
   "version": "3.8.5"
  }
 },
 "nbformat": 4,
 "nbformat_minor": 4
}
